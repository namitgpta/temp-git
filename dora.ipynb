{
 "cells": [
  {
   "cell_type": "code",
   "execution_count": 1,
   "metadata": {},
   "outputs": [],
   "source": [
    "import tensorflow as tf"
   ]
  },
  {
   "cell_type": "code",
   "execution_count": 2,
   "metadata": {},
   "outputs": [],
   "source": [
    "mnist=tf.keras.datasets.mnist"
   ]
  },
  {
   "cell_type": "code",
   "execution_count": 3,
   "metadata": {},
   "outputs": [
    {
     "data": {
      "text/plain": [
       "<module 'tensorflow_core.python.keras.api._v2.keras.datasets.mnist' from 'C:\\\\Users\\\\namit\\\\anaconda3\\\\envs\\\\dora\\\\lib\\\\site-packages\\\\tensorflow_core\\\\python\\\\keras\\\\api\\\\_v2\\\\keras\\\\datasets\\\\mnist\\\\__init__.py'>"
      ]
     },
     "execution_count": 3,
     "metadata": {},
     "output_type": "execute_result"
    }
   ],
   "source": [
    "mnist"
   ]
  },
  {
   "cell_type": "code",
   "execution_count": 4,
   "metadata": {},
   "outputs": [
    {
     "ename": "AttributeError",
     "evalue": "module 'tensorflow_core.python.keras.api._v2.keras.datasets.mnist' has no attribute 'info'",
     "output_type": "error",
     "traceback": [
      "\u001b[1;31m---------------------------------------------------------------------------\u001b[0m",
      "\u001b[1;31mAttributeError\u001b[0m                            Traceback (most recent call last)",
      "\u001b[1;32m<ipython-input-4-5f69afcfb7f5>\u001b[0m in \u001b[0;36m<module>\u001b[1;34m\u001b[0m\n\u001b[1;32m----> 1\u001b[1;33m \u001b[0mmnist\u001b[0m\u001b[1;33m.\u001b[0m\u001b[0minfo\u001b[0m\u001b[1;33m\u001b[0m\u001b[1;33m\u001b[0m\u001b[0m\n\u001b[0m",
      "\u001b[1;31mAttributeError\u001b[0m: module 'tensorflow_core.python.keras.api._v2.keras.datasets.mnist' has no attribute 'info'"
     ]
    }
   ],
   "source": [
    "mnist.info"
   ]
  },
  {
   "cell_type": "code",
   "execution_count": 5,
   "metadata": {},
   "outputs": [
    {
     "ename": "AttributeError",
     "evalue": "module 'tensorflow_core.python.keras.api._v2.keras.datasets.mnist' has no attribute 'info'",
     "output_type": "error",
     "traceback": [
      "\u001b[1;31m---------------------------------------------------------------------------\u001b[0m",
      "\u001b[1;31mAttributeError\u001b[0m                            Traceback (most recent call last)",
      "\u001b[1;32m<ipython-input-5-960feb3a48b0>\u001b[0m in \u001b[0;36m<module>\u001b[1;34m\u001b[0m\n\u001b[1;32m----> 1\u001b[1;33m \u001b[0mmnist\u001b[0m\u001b[1;33m.\u001b[0m\u001b[0minfo\u001b[0m\u001b[1;33m(\u001b[0m\u001b[1;33m)\u001b[0m\u001b[1;33m\u001b[0m\u001b[1;33m\u001b[0m\u001b[0m\n\u001b[0m",
      "\u001b[1;31mAttributeError\u001b[0m: module 'tensorflow_core.python.keras.api._v2.keras.datasets.mnist' has no attribute 'info'"
     ]
    }
   ],
   "source": [
    "mnist.info()"
   ]
  },
  {
   "cell_type": "code",
   "execution_count": 6,
   "metadata": {},
   "outputs": [
    {
     "ename": "AttributeError",
     "evalue": "module 'tensorflow_core.python.keras.api._v2.keras.datasets.mnist' has no attribute 'describe'",
     "output_type": "error",
     "traceback": [
      "\u001b[1;31m---------------------------------------------------------------------------\u001b[0m",
      "\u001b[1;31mAttributeError\u001b[0m                            Traceback (most recent call last)",
      "\u001b[1;32m<ipython-input-6-ca2531e81526>\u001b[0m in \u001b[0;36m<module>\u001b[1;34m\u001b[0m\n\u001b[1;32m----> 1\u001b[1;33m \u001b[0mmnist\u001b[0m\u001b[1;33m.\u001b[0m\u001b[0mdescribe\u001b[0m\u001b[1;33m\u001b[0m\u001b[1;33m\u001b[0m\u001b[0m\n\u001b[0m",
      "\u001b[1;31mAttributeError\u001b[0m: module 'tensorflow_core.python.keras.api._v2.keras.datasets.mnist' has no attribute 'describe'"
     ]
    }
   ],
   "source": [
    "mnist.describe"
   ]
  },
  {
   "cell_type": "code",
   "execution_count": 7,
   "metadata": {},
   "outputs": [
    {
     "data": {
      "text/plain": [
       "<module 'tdddensorflow_core.python.keras.api._v2.keras.datasets.mnist' from 'C:\\\\Users\\\\namit\\\\anaconda3\\\\envs\\\\dora\\\\lib\\\\site-packages\\\\tensorflow_core\\\\python\\\\keras\\\\api\\\\_v2\\\\keras\\\\datasets\\\\mnist\\\\__init__.py'>"
      ]
     },
     "execution_count": 7,
     "metadata": {},
     "output_type": "execute_result"
    }
   ],
   "source": [
    "mnist"
   ]
  },
  {
   "cell_type": "code",
   "execution_count": 8,
   "metadata": {},
   "outputs": [
    {
     "name": "stdout",
     "output_type": "stream",
     "text": [
      "Downloading data from https://storage.googleapis.com/tensorflow/tf-keras-datasets/mnist.npz\n",
      "11493376/11490434 [==============================] - 9s 1us/step\n"
     ]
    }
   ],
   "source": [
    "ZZ=mnist.load_data()"
   ]
  },
  {
   "cell_type": "code",
   "execution_count": 9,
   "metadata": {},
   "outputs": [
    {
     "data": {
      "text/plain": [
       "((array([[[0, 0, 0, ..., 0, 0, 0],\n",
       "          [0, 0, 0, ..., 0, 0, 0],\n",
       "          [0, 0, 0, ..., 0, 0, 0],\n",
       "          ...,\n",
       "          [0, 0, 0, ..., 0, 0, 0],\n",
       "          [0, 0, 0, ..., 0, 0, 0],\n",
       "          [0, 0, 0, ..., 0, 0, 0]],\n",
       "  \n",
       "         [[0, 0, 0, ..., 0, 0, 0],\n",
       "          [0, 0, 0, ..., 0, 0, 0],\n",
       "          [0, 0, 0, ..., 0, 0, 0],\n",
       "          ...,\n",
       "          [0, 0, 0, ..., 0, 0, 0],\n",
       "          [0, 0, 0, ..., 0, 0, 0],\n",
       "          [0, 0, 0, ..., 0, 0, 0]],\n",
       "  \n",
       "         [[0, 0, 0, ..., 0, 0, 0],\n",
       "          [0, 0, 0, ..., 0, 0, 0],\n",
       "          [0, 0, 0, ..., 0, 0, 0],\n",
       "          ...,\n",
       "          [0, 0, 0, ..., 0, 0, 0],\n",
       "          [0, 0, 0, ..., 0, 0, 0],\n",
       "          [0, 0, 0, ..., 0, 0, 0]],\n",
       "  \n",
       "         ...,\n",
       "  \n",
       "         [[0, 0, 0, ..., 0, 0, 0],\n",
       "          [0, 0, 0, ..., 0, 0, 0],\n",
       "          [0, 0, 0, ..., 0, 0, 0],\n",
       "          ...,\n",
       "          [0, 0, 0, ..., 0, 0, 0],\n",
       "          [0, 0, 0, ..., 0, 0, 0],\n",
       "          [0, 0, 0, ..., 0, 0, 0]],\n",
       "  \n",
       "         [[0, 0, 0, ..., 0, 0, 0],\n",
       "          [0, 0, 0, ..., 0, 0, 0],\n",
       "          [0, 0, 0, ..., 0, 0, 0],\n",
       "          ...,\n",
       "          [0, 0, 0, ..., 0, 0, 0],\n",
       "          [0, 0, 0, ..., 0, 0, 0],\n",
       "          [0, 0, 0, ..., 0, 0, 0]],\n",
       "  \n",
       "         [[0, 0, 0, ..., 0, 0, 0],\n",
       "          [0, 0, 0, ..., 0, 0, 0],\n",
       "          [0, 0, 0, ..., 0, 0, 0],\n",
       "          ...,\n",
       "          [0, 0, 0, ..., 0, 0, 0],\n",
       "          [0, 0, 0, ..., 0, 0, 0],\n",
       "          [0, 0, 0, ..., 0, 0, 0]]], dtype=uint8),\n",
       "  array([5, 0, 4, ..., 5, 6, 8], dtype=uint8)),\n",
       " (array([[[0, 0, 0, ..., 0, 0, 0],\n",
       "          [0, 0, 0, ..., 0, 0, 0],\n",
       "          [0, 0, 0, ..., 0, 0, 0],\n",
       "          ...,\n",
       "          [0, 0, 0, ..., 0, 0, 0],\n",
       "          [0, 0, 0, ..., 0, 0, 0],\n",
       "          [0, 0, 0, ..., 0, 0, 0]],\n",
       "  \n",
       "         [[0, 0, 0, ..., 0, 0, 0],\n",
       "          [0, 0, 0, ..., 0, 0, 0],\n",
       "          [0, 0, 0, ..., 0, 0, 0],\n",
       "          ...,\n",
       "          [0, 0, 0, ..., 0, 0, 0],\n",
       "          [0, 0, 0, ..., 0, 0, 0],\n",
       "          [0, 0, 0, ..., 0, 0, 0]],\n",
       "  \n",
       "         [[0, 0, 0, ..., 0, 0, 0],\n",
       "          [0, 0, 0, ..., 0, 0, 0],\n",
       "          [0, 0, 0, ..., 0, 0, 0],\n",
       "          ...,\n",
       "          [0, 0, 0, ..., 0, 0, 0],\n",
       "          [0, 0, 0, ..., 0, 0, 0],\n",
       "          [0, 0, 0, ..., 0, 0, 0]],\n",
       "  \n",
       "         ...,\n",
       "  \n",
       "         [[0, 0, 0, ..., 0, 0, 0],\n",
       "          [0, 0, 0, ..., 0, 0, 0],\n",
       "          [0, 0, 0, ..., 0, 0, 0],\n",
       "          ...,\n",
       "          [0, 0, 0, ..., 0, 0, 0],\n",
       "          [0, 0, 0, ..., 0, 0, 0],\n",
       "          [0, 0, 0, ..., 0, 0, 0]],\n",
       "  \n",
       "         [[0, 0, 0, ..., 0, 0, 0],\n",
       "          [0, 0, 0, ..., 0, 0, 0],\n",
       "          [0, 0, 0, ..., 0, 0, 0],\n",
       "          ...,\n",
       "          [0, 0, 0, ..., 0, 0, 0],\n",
       "          [0, 0, 0, ..., 0, 0, 0],\n",
       "          [0, 0, 0, ..., 0, 0, 0]],\n",
       "  \n",
       "         [[0, 0, 0, ..., 0, 0, 0],\n",
       "          [0, 0, 0, ..., 0, 0, 0],\n",
       "          [0, 0, 0, ..., 0, 0, 0],\n",
       "          ...,\n",
       "          [0, 0, 0, ..., 0, 0, 0],\n",
       "          [0, 0, 0, ..., 0, 0, 0],\n",
       "          [0, 0, 0, ..., 0, 0, 0]]], dtype=uint8),\n",
       "  array([7, 2, 1, ..., 4, 5, 6], dtype=uint8)))"
      ]
     },
     "execution_count": 9,
     "metadata": {},
     "output_type": "execute_result"
    }
   ],
   "source": [
    "ZZ"
   ]
  },
  {
   "cell_type": "code",
   "execution_count": 10,
   "metadata": {},
   "outputs": [
    {
     "ename": "AttributeError",
     "evalue": "'tuple' object has no attribute 'info'",
     "output_type": "error",
     "traceback": [
      "\u001b[1;31m---------------------------------------------------------------------------\u001b[0m",
      "\u001b[1;31mAttributeError\u001b[0m                            Traceback (most recent call last)",
      "\u001b[1;32m<ipython-input-10-7d128f625da4>\u001b[0m in \u001b[0;36m<module>\u001b[1;34m\u001b[0m\n\u001b[1;32m----> 1\u001b[1;33m \u001b[0mZZ\u001b[0m\u001b[1;33m.\u001b[0m\u001b[0minfo\u001b[0m\u001b[1;33m(\u001b[0m\u001b[1;33m)\u001b[0m\u001b[1;33m\u001b[0m\u001b[1;33m\u001b[0m\u001b[0m\n\u001b[0m",
      "\u001b[1;31mAttributeError\u001b[0m: 'tuple' object has no attribute 'info'"
     ]
    }
   ],
   "source": [
    "ZZ.info()"
   ]
  },
  {
   "cell_type": "code",
   "execution_count": 11,
   "metadata": {},
   "outputs": [],
   "source": [
    "(x_train, y_train),(x_test, y_test)=ZZ"
   ]
  },
  {
   "cell_type": "code",
   "execution_count": 13,
   "metadata": {},
   "outputs": [
    {
     "ename": "AttributeError",
     "evalue": "'numpy.ndarray' object has no attribute 'info'",
     "output_type": "error",
     "traceback": [
      "\u001b[1;31m---------------------------------------------------------------------------\u001b[0m",
      "\u001b[1;31mAttributeError\u001b[0m                            Traceback (most recent call last)",
      "\u001b[1;32m<ipython-input-13-cfcea75e76a5>\u001b[0m in \u001b[0;36m<module>\u001b[1;34m\u001b[0m\n\u001b[1;32m----> 1\u001b[1;33m \u001b[0mx_train\u001b[0m\u001b[1;33m.\u001b[0m\u001b[0minfo\u001b[0m\u001b[1;33m(\u001b[0m\u001b[1;33m)\u001b[0m\u001b[1;33m\u001b[0m\u001b[1;33m\u001b[0m\u001b[0m\n\u001b[0m",
      "\u001b[1;31mAttributeError\u001b[0m: 'numpy.ndarray' object has no attribute 'info'"
     ]
    }
   ],
   "source": [
    "x_train.info()"
   ]
  },
  {
   "cell_type": "code",
   "execution_count": 14,
   "metadata": {},
   "outputs": [
    {
     "data": {
      "text/plain": [
       "(60000, 28, 28)"
      ]
     },
     "execution_count": 14,
     "metadata": {},
     "output_type": "execute_result"
    }
   ],
   "source": [
    "x_train.shape"
   ]
  },
  {
   "cell_type": "code",
   "execution_count": 15,
   "metadata": {},
   "outputs": [
    {
     "data": {
      "text/plain": [
       "array([[  0,   0,   0,   0,   0,   0,   0,   0,   0,   0,   0,   0,   0,\n",
       "          0,   0,   0,   0,   0,   0,   0,   0,   0,   0,   0,   0,   0,\n",
       "          0,   0],\n",
       "       [  0,   0,   0,   0,   0,   0,   0,   0,   0,   0,   0,   0,   0,\n",
       "          0,   0,   0,   0,   0,   0,   0,   0,   0,   0,   0,   0,   0,\n",
       "          0,   0],\n",
       "       [  0,   0,   0,   0,   0,   0,   0,   0,   0,   0,   0,   0,   0,\n",
       "          0,   0,   0,   0,   0,   0,   0,   0,   0,   0,   0,   0,   0,\n",
       "          0,   0],\n",
       "       [  0,   0,   0,   0,   0,   0,   0,   0,   0,   0,   0,   0,   0,\n",
       "          0,   0,   0,   0,   0,   0,   0,   0,   0,   0,   0,   0,   0,\n",
       "          0,   0],\n",
       "       [  0,   0,   0,   0,   0,   0,   0,   0,   0,   0,   0,   0,   0,\n",
       "          0,   0,   0,   0,   0,   0,   0,   0,   0,   0,   0,   0,   0,\n",
       "          0,   0],\n",
       "       [  0,   0,   0,   0,   0,   0,   0,   0,   0,   0,   0,   0,   3,\n",
       "         18,  18,  18, 126, 136, 175,  26, 166, 255, 247, 127,   0,   0,\n",
       "          0,   0],\n",
       "       [  0,   0,   0,   0,   0,   0,   0,   0,  30,  36,  94, 154, 170,\n",
       "        253, 253, 253, 253, 253, 225, 172, 253, 242, 195,  64,   0,   0,\n",
       "          0,   0],\n",
       "       [  0,   0,   0,   0,   0,   0,   0,  49, 238, 253, 253, 253, 253,\n",
       "        253, 253, 253, 253, 251,  93,  82,  82,  56,  39,   0,   0,   0,\n",
       "          0,   0],\n",
       "       [  0,   0,   0,   0,   0,   0,   0,  18, 219, 253, 253, 253, 253,\n",
       "        253, 198, 182, 247, 241,   0,   0,   0,   0,   0,   0,   0,   0,\n",
       "          0,   0],\n",
       "       [  0,   0,   0,   0,   0,   0,   0,   0,  80, 156, 107, 253, 253,\n",
       "        205,  11,   0,  43, 154,   0,   0,   0,   0,   0,   0,   0,   0,\n",
       "          0,   0],\n",
       "       [  0,   0,   0,   0,   0,   0,   0,   0,   0,  14,   1, 154, 253,\n",
       "         90,   0,   0,   0,   0,   0,   0,   0,   0,   0,   0,   0,   0,\n",
       "          0,   0],\n",
       "       [  0,   0,   0,   0,   0,   0,   0,   0,   0,   0,   0, 139, 253,\n",
       "        190,   2,   0,   0,   0,   0,   0,   0,   0,   0,   0,   0,   0,\n",
       "          0,   0],\n",
       "       [  0,   0,   0,   0,   0,   0,   0,   0,   0,   0,   0,  11, 190,\n",
       "        253,  70,   0,   0,   0,   0,   0,   0,   0,   0,   0,   0,   0,\n",
       "          0,   0],\n",
       "       [  0,   0,   0,   0,   0,   0,   0,   0,   0,   0,   0,   0,  35,\n",
       "        241, 225, 160, 108,   1,   0,   0,   0,   0,   0,   0,   0,   0,\n",
       "          0,   0],\n",
       "       [  0,   0,   0,   0,   0,   0,   0,   0,   0,   0,   0,   0,   0,\n",
       "         81, 240, 253, 253, 119,  25,   0,   0,   0,   0,   0,   0,   0,\n",
       "          0,   0],\n",
       "       [  0,   0,   0,   0,   0,   0,   0,   0,   0,   0,   0,   0,   0,\n",
       "          0,  45, 186, 253, 253, 150,  27,   0,   0,   0,   0,   0,   0,\n",
       "          0,   0],\n",
       "       [  0,   0,   0,   0,   0,   0,   0,   0,   0,   0,   0,   0,   0,\n",
       "          0,   0,  16,  93, 252, 253, 187,   0,   0,   0,   0,   0,   0,\n",
       "          0,   0],\n",
       "       [  0,   0,   0,   0,   0,   0,   0,   0,   0,   0,   0,   0,   0,\n",
       "          0,   0,   0,   0, 249, 253, 249,  64,   0,   0,   0,   0,   0,\n",
       "          0,   0],\n",
       "       [  0,   0,   0,   0,   0,   0,   0,   0,   0,   0,   0,   0,   0,\n",
       "          0,  46, 130, 183, 253, 253, 207,   2,   0,   0,   0,   0,   0,\n",
       "          0,   0],\n",
       "       [  0,   0,   0,   0,   0,   0,   0,   0,   0,   0,   0,   0,  39,\n",
       "        148, 229, 253, 253, 253, 250, 182,   0,   0,   0,   0,   0,   0,\n",
       "          0,   0],\n",
       "       [  0,   0,   0,   0,   0,   0,   0,   0,   0,   0,  24, 114, 221,\n",
       "        253, 253, 253, 253, 201,  78,   0,   0,   0,   0,   0,   0,   0,\n",
       "          0,   0],\n",
       "       [  0,   0,   0,   0,   0,   0,   0,   0,  23,  66, 213, 253, 253,\n",
       "        253, 253, 198,  81,   2,   0,   0,   0,   0,   0,   0,   0,   0,\n",
       "          0,   0],\n",
       "       [  0,   0,   0,   0,   0,   0,  18, 171, 219, 253, 253, 253, 253,\n",
       "        195,  80,   9,   0,   0,   0,   0,   0,   0,   0,   0,   0,   0,\n",
       "          0,   0],\n",
       "       [  0,   0,   0,   0,  55, 172, 226, 253, 253, 253, 253, 244, 133,\n",
       "         11,   0,   0,   0,   0,   0,   0,   0,   0,   0,   0,   0,   0,\n",
       "          0,   0],\n",
       "       [  0,   0,   0,   0, 136, 253, 253, 253, 212, 135, 132,  16,   0,\n",
       "          0,   0,   0,   0,   0,   0,   0,   0,   0,   0,   0,   0,   0,\n",
       "          0,   0],\n",
       "       [  0,   0,   0,   0,   0,   0,   0,   0,   0,   0,   0,   0,   0,\n",
       "          0,   0,   0,   0,   0,   0,   0,   0,   0,   0,   0,   0,   0,\n",
       "          0,   0],\n",
       "       [  0,   0,   0,   0,   0,   0,   0,   0,   0,   0,   0,   0,   0,\n",
       "          0,   0,   0,   0,   0,   0,   0,   0,   0,   0,   0,   0,   0,\n",
       "          0,   0],\n",
       "       [  0,   0,   0,   0,   0,   0,   0,   0,   0,   0,   0,   0,   0,\n",
       "          0,   0,   0,   0,   0,   0,   0,   0,   0,   0,   0,   0,   0,\n",
       "          0,   0]], dtype=uint8)"
      ]
     },
     "execution_count": 15,
     "metadata": {},
     "output_type": "execute_result"
    }
   ],
   "source": [
    "x_train[0]"
   ]
  },
  {
   "cell_type": "code",
   "execution_count": 16,
   "metadata": {},
   "outputs": [],
   "source": [
    "x_train, x_test = x_train/255.0, x_test/255.0"
   ]
  },
  {
   "cell_type": "code",
   "execution_count": 17,
   "metadata": {},
   "outputs": [],
   "source": [
    "model = tf.keras.models.Sequential([\n",
    "    tf.keras.layers.Flatten(input_shape=(28,28)),\n",
    "    tf.keras.layers.Dense(128, activation='relu'),\n",
    "    tf.keras.layers.Dropout(0.2),\n",
    "    tf.keras.layers.Dense(10, activation='softmax')\n",
    "])"
   ]
  },
  {
   "cell_type": "code",
   "execution_count": 18,
   "metadata": {},
   "outputs": [],
   "source": [
    "model.compile(optimizer='adam',\n",
    "              loss='sparse_categorical_crossentropy',\n",
    "              metrics=['accuracy'])"
   ]
  },
  {
   "cell_type": "code",
   "execution_count": 19,
   "metadata": {},
   "outputs": [
    {
     "name": "stdout",
     "output_type": "stream",
     "text": [
      "Train on 60000 samples, validate on 10000 samples\n",
      "Epoch 1/10\n",
      "60000/60000 [==============================] - 4s 63us/sample - loss: 0.2882 - accuracy: 0.9146 - val_loss: 0.1369 - val_accuracy: 0.9585\n",
      "Epoch 2/10\n",
      "60000/60000 [==============================] - 3s 56us/sample - loss: 0.1409 - accuracy: 0.9582 - val_loss: 0.1056 - val_accuracy: 0.9666\n",
      "Epoch 3/10\n",
      "60000/60000 [==============================] - 3s 55us/sample - loss: 0.1068 - accuracy: 0.9675 - val_loss: 0.0896 - val_accuracy: 0.9740\n",
      "Epoch 4/10\n",
      "60000/60000 [==============================] - 4s 61us/sample - loss: 0.0882 - accuracy: 0.9722 - val_loss: 0.0798 - val_accuracy: 0.9755\n",
      "Epoch 5/10\n",
      "60000/60000 [==============================] - 3s 53us/sample - loss: 0.0749 - accuracy: 0.9771 - val_loss: 0.0742 - val_accuracy: 0.9785\n",
      "Epoch 6/10\n",
      "60000/60000 [==============================] - 3s 56us/sample - loss: 0.0653 - accuracy: 0.9796 - val_loss: 0.0743 - val_accuracy: 0.9789\n",
      "Epoch 7/10\n",
      "60000/60000 [==============================] - 3s 54us/sample - loss: 0.0591 - accuracy: 0.9811 - val_loss: 0.0791 - val_accuracy: 0.9772ETA: 0s - loss: 0.0586 - ac\n",
      "Epoch 8/10\n",
      "60000/60000 [==============================] - 3s 53us/sample - loss: 0.0528 - accuracy: 0.9830 - val_loss: 0.0787 - val_accuracy: 0.9781: 0.0448 - ac - ETA: \n",
      "Epoch 9/10\n",
      "60000/60000 [==============================] - 3s 54us/sample - loss: 0.0477 - accuracy: 0.9840 - val_loss: 0.0703 - val_accuracy: 0.9802s - loss: 0.044 - ETA: 1s - loss: 0.0442  - ETA: 1s - loss: 0.0456 - accu - ETA: 0s - loss: 0.0459 - accura - ETA: 0s - loss: 0.0463 - accuracy - ETA: 0s - loss: 0.0471 - accu - ETA: 0s - loss: 0.0478 - accuracy: 0.98\n",
      "Epoch 10/10\n",
      "60000/60000 [==============================] - 3s 54us/sample - loss: 0.0446 - accuracy: 0.9849 - val_loss: 0.0745 - val_accuracy: 0.9790: 0.0431 - accuracy: 0. - ETA: 1s - loss: 0.0437 -  - ETA: 0s\n"
     ]
    }
   ],
   "source": [
    "r = model.fit(x_train, y_train, validation_data=(x_test, y_test), epochs=10)"
   ]
  },
  {
   "cell_type": "code",
   "execution_count": 20,
   "metadata": {},
   "outputs": [],
   "source": [
    "import matplotlib.pyplot as plt"
   ]
  },
  {
   "cell_type": "code",
   "execution_count": 21,
   "metadata": {},
   "outputs": [],
   "source": [
    "%matplotlib inline"
   ]
  },
  {
   "cell_type": "code",
   "execution_count": 23,
   "metadata": {},
   "outputs": [
    {
     "data": {
      "text/plain": [
       "<matplotlib.legend.Legend at 0x25b4103c808>"
      ]
     },
     "execution_count": 23,
     "metadata": {},
     "output_type": "execute_result"
    },
    {
     "data": {
      "image/png": "[encoded data removed]",
      "text/plain": [
       "<Figure size 432x288 with 1 Axes>"
      ]
     },
     "metadata": {
      "needs_background": "light"
     },
     "output_type": "display_data"
    }
   ],
   "source": [
    "plt.plot(r.history['accuracy'], label='accuracy')\n",
    "plt.plot(r.history['val_accuracy'])\n",
    "plt.legend()"
   ]
  },
  {
   "cell_type": "code",
   "execution_count": 24,
   "metadata": {},
   "outputs": [
    {
     "name": "stdout",
     "output_type": "stream",
     "text": [
      "10000/10000 [==============================] - 0s 31us/sample - loss: 0.0745 - accuracy: 0.9790\n"
     ]
    },
    {
     "data": {
      "text/plain": [
       "[0.07450715159537503, 0.979]"
      ]
     },
     "execution_count": 24,
     "metadata": {},
     "output_type": "execute_result"
    }
   ],
   "source": [
    "model.evaluate(x_test, y_test)"
   ]
  },
  {
   "cell_type": "code",
   "execution_count": 25,
   "metadata": {},
   "outputs": [],
   "source": [
    "from sklearn.metrics import confusion_matrix"
   ]
  },
  {
   "cell_type": "code",
   "execution_count": 26,
   "metadata": {},
   "outputs": [],
   "source": [
    "import numpy as np"
   ]
  },
  {
   "cell_type": "code",
   "execution_count": 27,
   "metadata": {},
   "outputs": [],
   "source": [
    "import itertools"
   ]
  },
  {
   "cell_type": "code",
   "execution_count": null,
   "metadata": {},
   "outputs": [],
   "source": [
    "def plot_confusion_matrix(cm, classes, normalize=False, title='Confusion Matrix', cmap=plt.cm.Blues):\n",
    "    if normalize:\n",
    "        cm = cm.astype('float')/cm.sum(axis=1)[:, np.newaxis]\n",
    "        print('Normalized Confusion Matrix')\n",
    "    else:\n",
    "        print('Confusion matrix, without normalization')\n",
    "    print(cm)\n",
    "    \n",
    "    plt.imshow(cm, interpolation='nearest', cmap=cmap)\n",
    "    plt.title(title)\n",
    "    plt.colorbar()\n",
    "    tick_marks = np.arange(len(classes))\n",
    "    plt.xticks(tick_marks, classes, rotation=45)\n",
    "    plt.yticks(tick_marks, classes)\n",
    "    \n",
    "    "
   ]
  },
  {
   "cell_type": "code",
   "execution_count": 28,
   "metadata": {},
   "outputs": [],
   "source": [
    "p_test = model.predict(x_test).argmax(axis=1)"
   ]
  },
  {
   "cell_type": "code",
   "execution_count": 35,
   "metadata": {},
   "outputs": [
    {
     "data": {
      "text/plain": [
       "(10000, 10)"
      ]
     },
     "execution_count": 35,
     "metadata": {},
     "output_type": "execute_result"
    }
   ],
   "source": [
    "p_test.shape"
   ]
  },
  {
   "cell_type": "code",
   "execution_count": 36,
   "metadata": {},
   "outputs": [
    {
     "data": {
      "text/plain": [
       "array([1.38812730e-08, 3.53766572e-10, 6.28799626e-08, 1.82005442e-05,\n",
       "       3.09218471e-12, 3.27698686e-08, 2.65759185e-17, 9.99981523e-01,\n",
       "       1.01238635e-08, 1.00110775e-07], dtype=float32)"
      ]
     },
     "execution_count": 36,
     "metadata": {},
     "output_type": "execute_result"
    }
   ],
   "source": [
    "p_test[0]"
   ]
  },
  {
   "cell_type": "code",
   "execution_count": 37,
   "metadata": {},
   "outputs": [
    {
     "ename": "AxisError",
     "evalue": "axis 1 is out of bounds for array of dimension 1",
     "output_type": "error",
     "traceback": [
      "\u001b[1;31m---------------------------------------------------------------------------\u001b[0m",
      "\u001b[1;31mAxisError\u001b[0m                                 Traceback (most recent call last)",
      "\u001b[1;32m<ipython-input-37-f9af98df91a5>\u001b[0m in \u001b[0;36m<module>\u001b[1;34m\u001b[0m\n\u001b[1;32m----> 1\u001b[1;33m \u001b[0mp_test\u001b[0m\u001b[1;33m[\u001b[0m\u001b[1;36m0\u001b[0m\u001b[1;33m]\u001b[0m\u001b[1;33m.\u001b[0m\u001b[0margmax\u001b[0m\u001b[1;33m(\u001b[0m\u001b[0maxis\u001b[0m\u001b[1;33m=\u001b[0m\u001b[1;36m1\u001b[0m\u001b[1;33m)\u001b[0m\u001b[1;33m\u001b[0m\u001b[1;33m\u001b[0m\u001b[0m\n\u001b[0m",
      "\u001b[1;31mAxisError\u001b[0m: axis 1 is out of bounds for array of dimension 1"
     ]
    }
   ],
   "source": [
    "p_test[0].argmax(axis=1)"
   ]
  },
  {
   "cell_type": "code",
   "execution_count": 38,
   "metadata": {},
   "outputs": [
    {
     "data": {
      "text/plain": [
       "7"
      ]
     },
     "execution_count": 38,
     "metadata": {},
     "output_type": "execute_result"
    }
   ],
   "source": [
    "p_test[0].argmax()"
   ]
  },
  {
   "cell_type": "code",
   "execution_count": 39,
   "metadata": {},
   "outputs": [],
   "source": [
    "from mpl_toolkits.mplot3d import Axes3D"
   ]
  },
  {
   "cell_type": "code",
   "execution_count": 40,
   "metadata": {},
   "outputs": [],
   "source": [
    "N = 1000\n",
    "X = np.random.random((N,2))*6-3\n",
    "Y = np.cos(2*X[:,0])+np.cos(3*X[:,1])"
   ]
  },
  {
   "cell_type": "code",
   "execution_count": 41,
   "metadata": {},
   "outputs": [
    {
     "data": {
      "text/plain": [
       "<Figure size 432x288 with 0 Axes>"
      ]
     },
     "metadata": {},
     "output_type": "display_data"
    }
   ],
   "source": []
  },
  {
   "cell_type": "code",
   "execution_count": 44,
   "metadata": {},
   "outputs": [
    {
     "data": {
      "text/plain": [
       "<mpl_toolkits.mplot3d.art3d.Path3DCollection at 0x25b42e61548>"
      ]
     },
     "execution_count": 44,
     "metadata": {},
     "output_type": "execute_result"
    },
    {
     "data": {
      "image/png": "[encoded data removed]",
      "text/plain": [
       "<Figure size 432x288 with 1 Axes>"
      ]
     },
     "metadata": {
      "needs_background": "light"
     },
     "output_type": "display_data"
    }
   ],
   "source": [
    "fig = plt.figure()\n",
    "ax = fig.add_subplot(111, projection='3d')\n",
    "ax.scatter(X[:,0], X[:,1], Y)"
   ]
  },
  {
   "cell_type": "code",
   "execution_count": 43,
   "metadata": {},
   "outputs": [],
   "source": [
    "plt.show()"
   ]
  },
  {
   "cell_type": "code",
   "execution_count": 46,
   "metadata": {},
   "outputs": [],
   "source": [
    "model = tf.keras.models.Sequential([\n",
    "    tf.keras.layers.Dense(128, input_shape=(2,), activation='relu'),\n",
    "    tf.keras.layers.Dense(1)\n",
    "])"
   ]
  },
  {
   "cell_type": "code",
   "execution_count": 47,
   "metadata": {},
   "outputs": [
    {
     "name": "stdout",
     "output_type": "stream",
     "text": [
      "Train on 1000 samples\n",
      "Epoch 1/100\n",
      "1000/1000 [==============================] - 0s 291us/sample - loss: 0.9836\n",
      "Epoch 2/100\n",
      "1000/1000 [==============================] - 0s 40us/sample - loss: 0.9589\n",
      "Epoch 3/100\n",
      "1000/1000 [==============================] - 0s 40us/sample - loss: 0.9252\n",
      "Epoch 4/100\n",
      "1000/1000 [==============================] - 0s 40us/sample - loss: 0.9008\n",
      "Epoch 5/100\n",
      "1000/1000 [==============================] - 0s 40us/sample - loss: 0.8896\n",
      "Epoch 6/100\n",
      "1000/1000 [==============================] - 0s 40us/sample - loss: 0.7989\n",
      "Epoch 7/100\n",
      "1000/1000 [==============================] - 0s 40us/sample - loss: 0.7456\n",
      "Epoch 8/100\n",
      "1000/1000 [==============================] - 0s 40us/sample - loss: 0.6813\n",
      "Epoch 9/100\n",
      "1000/1000 [==============================] - 0s 40us/sample - loss: 0.6308\n",
      "Epoch 10/100\n",
      "1000/1000 [==============================] - 0s 40us/sample - loss: 0.6127\n",
      "Epoch 11/100\n",
      "1000/1000 [==============================] - 0s 40us/sample - loss: 0.5673\n",
      "Epoch 12/100\n",
      "1000/1000 [==============================] - ETA: 0s - loss: 0.360 - 0s 40us/sample - loss: 0.5545\n",
      "Epoch 13/100\n",
      "1000/1000 [==============================] - 0s 40us/sample - loss: 0.5130\n",
      "Epoch 14/100\n",
      "1000/1000 [==============================] - 0s 40us/sample - loss: 0.5319\n",
      "Epoch 15/100\n",
      "1000/1000 [==============================] - 0s 40us/sample - loss: 0.4866\n",
      "Epoch 16/100\n",
      "1000/1000 [==============================] - 0s 40us/sample - loss: 0.5134\n",
      "Epoch 17/100\n",
      "1000/1000 [==============================] - 0s 40us/sample - loss: 0.4964\n",
      "Epoch 18/100\n",
      "1000/1000 [==============================] - 0s 40us/sample - loss: 0.4737\n",
      "Epoch 19/100\n",
      "1000/1000 [==============================] - 0s 48us/sample - loss: 0.4831\n",
      "Epoch 20/100\n",
      "1000/1000 [==============================] - 0s 40us/sample - loss: 0.4448\n",
      "Epoch 21/100\n",
      "1000/1000 [==============================] - 0s 40us/sample - loss: 0.4994\n",
      "Epoch 22/100\n",
      "1000/1000 [==============================] - 0s 40us/sample - loss: 0.4445\n",
      "Epoch 23/100\n",
      "1000/1000 [==============================] - 0s 40us/sample - loss: 0.4746\n",
      "Epoch 24/100\n",
      "1000/1000 [==============================] - 0s 40us/sample - loss: 0.4129\n",
      "Epoch 25/100\n",
      "1000/1000 [==============================] - 0s 41us/sample - loss: 0.4238\n",
      "Epoch 26/100\n",
      "1000/1000 [==============================] - 0s 40us/sample - loss: 0.4689\n",
      "Epoch 27/100\n",
      "1000/1000 [==============================] - 0s 40us/sample - loss: 0.5127\n",
      "Epoch 28/100\n",
      "1000/1000 [==============================] - 0s 48us/sample - loss: 0.4068\n",
      "Epoch 29/100\n",
      "1000/1000 [==============================] - 0s 56us/sample - loss: 0.4343\n",
      "Epoch 30/100\n",
      "1000/1000 [==============================] - 0s 72us/sample - loss: 0.3953\n",
      "Epoch 31/100\n",
      "1000/1000 [==============================] - 0s 40us/sample - loss: 0.4299\n",
      "Epoch 32/100\n",
      "1000/1000 [==============================] - 0s 26us/sample - loss: 0.4205\n",
      "Epoch 33/100\n",
      "1000/1000 [==============================] - 0s 42us/sample - loss: 0.3892\n",
      "Epoch 34/100\n",
      "1000/1000 [==============================] - 0s 25us/sample - loss: 0.4033\n",
      "Epoch 35/100\n",
      "1000/1000 [==============================] - 0s 43us/sample - loss: 0.4671\n",
      "Epoch 36/100\n",
      "1000/1000 [==============================] - 0s 38us/sample - loss: 0.3606\n",
      "Epoch 37/100\n",
      "1000/1000 [==============================] - 0s 40us/sample - loss: 0.3509\n",
      "Epoch 38/100\n",
      "1000/1000 [==============================] - ETA: 0s - loss: 0.265 - 0s 32us/sample - loss: 0.3138\n",
      "Epoch 39/100\n",
      "1000/1000 [==============================] - 0s 33us/sample - loss: 0.3030\n",
      "Epoch 40/100\n",
      "1000/1000 [==============================] - 0s 33us/sample - loss: 0.2833\n",
      "Epoch 41/100\n",
      "1000/1000 [==============================] - 0s 34us/sample - loss: 0.2563\n",
      "Epoch 42/100\n",
      "1000/1000 [==============================] - 0s 40us/sample - loss: 0.2520\n",
      "Epoch 43/100\n",
      "1000/1000 [==============================] - 0s 32us/sample - loss: 0.2380\n",
      "Epoch 44/100\n",
      "1000/1000 [==============================] - 0s 33us/sample - loss: 0.2137\n",
      "Epoch 45/100\n",
      "1000/1000 [==============================] - 0s 32us/sample - loss: 0.1987\n",
      "Epoch 46/100\n",
      "1000/1000 [==============================] - 0s 35us/sample - loss: 0.1746\n",
      "Epoch 47/100\n",
      "1000/1000 [==============================] - 0s 33us/sample - loss: 0.1624\n",
      "Epoch 48/100\n",
      "1000/1000 [==============================] - 0s 32us/sample - loss: 0.1144\n",
      "Epoch 49/100\n",
      "1000/1000 [==============================] - 0s 35us/sample - loss: 0.1260\n",
      "Epoch 50/100\n",
      "1000/1000 [==============================] - 0s 32us/sample - loss: 0.1002\n",
      "Epoch 51/100\n",
      "1000/1000 [==============================] - 0s 48us/sample - loss: 0.0870\n",
      "Epoch 52/100\n",
      "1000/1000 [==============================] - 0s 87us/sample - loss: 0.0749\n",
      "Epoch 53/100\n",
      "1000/1000 [==============================] - 0s 61us/sample - loss: 0.0832\n",
      "Epoch 54/100\n",
      "1000/1000 [==============================] - 0s 40us/sample - loss: 0.0646\n",
      "Epoch 55/100\n",
      "1000/1000 [==============================] - ETA: 0s - loss: 0.062 - 0s 47us/sample - loss: 0.0650\n",
      "Epoch 56/100\n",
      "1000/1000 [==============================] - 0s 45us/sample - loss: 0.0531\n",
      "Epoch 57/100\n",
      "1000/1000 [==============================] - 0s 37us/sample - loss: 0.0490\n",
      "Epoch 58/100\n",
      "1000/1000 [==============================] - 0s 46us/sample - loss: 0.0402\n",
      "Epoch 59/100\n",
      "1000/1000 [==============================] - 0s 44us/sample - loss: 0.0469\n",
      "Epoch 60/100\n",
      "1000/1000 [==============================] - 0s 33us/sample - loss: 0.0348\n",
      "Epoch 61/100\n",
      "1000/1000 [==============================] - 0s 47us/sample - loss: 0.0253\n",
      "Epoch 62/100\n",
      "1000/1000 [==============================] - 0s 40us/sample - loss: 0.0254\n",
      "Epoch 63/100\n",
      "1000/1000 [==============================] - 0s 40us/sample - loss: 0.0191\n",
      "Epoch 64/100\n",
      "1000/1000 [==============================] - 0s 38us/sample - loss: 0.0182\n",
      "Epoch 65/100\n",
      "1000/1000 [==============================] - 0s 48us/sample - loss: 0.0170\n",
      "Epoch 66/100\n",
      "1000/1000 [==============================] - 0s 35us/sample - loss: 0.0158\n",
      "Epoch 67/100\n",
      "1000/1000 [==============================] - 0s 47us/sample - loss: 0.0176\n",
      "Epoch 68/100\n",
      "1000/1000 [==============================] - 0s 40us/sample - loss: 0.0189\n",
      "Epoch 69/100\n",
      "1000/1000 [==============================] - 0s 38us/sample - loss: 0.0193\n",
      "Epoch 70/100\n",
      "1000/1000 [==============================] - 0s 40us/sample - loss: 0.0112\n",
      "Epoch 71/100\n",
      "1000/1000 [==============================] - 0s 35us/sample - loss: 0.0139\n",
      "Epoch 72/100\n",
      "1000/1000 [==============================] - 0s 41us/sample - loss: 0.0181\n",
      "Epoch 73/100\n",
      "1000/1000 [==============================] - 0s 40us/sample - loss: 0.0110\n",
      "Epoch 74/100\n",
      "1000/1000 [==============================] - ETA: 0s - loss: 0.007 - 0s 36us/sample - loss: 0.0097\n",
      "Epoch 75/100\n",
      "1000/1000 [==============================] - 0s 48us/sample - loss: 0.0106\n",
      "Epoch 76/100\n",
      "1000/1000 [==============================] - 0s 44us/sample - loss: 0.0086\n",
      "Epoch 77/100\n",
      "1000/1000 [==============================] - 0s 40us/sample - loss: 0.0231\n",
      "Epoch 78/100\n",
      "1000/1000 [==============================] - 0s 44us/sample - loss: 0.0189\n",
      "Epoch 79/100\n",
      "1000/1000 [==============================] - 0s 41us/sample - loss: 0.0101\n",
      "Epoch 80/100\n",
      "1000/1000 [==============================] - 0s 42us/sample - loss: 0.0167\n",
      "Epoch 81/100\n",
      "1000/1000 [==============================] - 0s 40us/sample - loss: 0.0237\n",
      "Epoch 82/100\n",
      "1000/1000 [==============================] - 0s 40us/sample - loss: 0.0308\n",
      "Epoch 83/100\n",
      "1000/1000 [==============================] - 0s 38us/sample - loss: 0.0432\n",
      "Epoch 84/100\n",
      "1000/1000 [==============================] - 0s 42us/sample - loss: 0.0274\n",
      "Epoch 85/100\n",
      "1000/1000 [==============================] - 0s 38us/sample - loss: 0.0457\n",
      "Epoch 86/100\n",
      "1000/1000 [==============================] - 0s 41us/sample - loss: 0.0586\n",
      "Epoch 87/100\n",
      "1000/1000 [==============================] - 0s 48us/sample - loss: 0.0337\n",
      "Epoch 88/100\n",
      "1000/1000 [==============================] - 0s 36us/sample - loss: 0.0099\n",
      "Epoch 89/100\n",
      "1000/1000 [==============================] - 0s 40us/sample - loss: 0.0067\n",
      "Epoch 90/100\n",
      "1000/1000 [==============================] - 0s 35us/sample - loss: 0.0062\n",
      "Epoch 91/100\n",
      "1000/1000 [==============================] - 0s 45us/sample - loss: 0.0153\n",
      "Epoch 92/100\n"
     ]
    },
    {
     "name": "stdout",
     "output_type": "stream",
     "text": [
      "1000/1000 [==============================] - 0s 40us/sample - loss: 0.0161\n",
      "Epoch 93/100\n",
      "1000/1000 [==============================] - 0s 34us/sample - loss: 0.0075\n",
      "Epoch 94/100\n",
      "1000/1000 [==============================] - 0s 41us/sample - loss: 0.0096\n",
      "Epoch 95/100\n",
      "1000/1000 [==============================] - 0s 39us/sample - loss: 0.0091\n",
      "Epoch 96/100\n",
      "1000/1000 [==============================] - 0s 41us/sample - loss: 0.0076\n",
      "Epoch 97/100\n",
      "1000/1000 [==============================] - 0s 40us/sample - loss: 0.0083\n",
      "Epoch 98/100\n",
      "1000/1000 [==============================] - 0s 44us/sample - loss: 0.0136\n",
      "Epoch 99/100\n",
      "1000/1000 [==============================] - 0s 40us/sample - loss: 0.0463\n",
      "Epoch 100/100\n",
      "1000/1000 [==============================] - 0s 45us/sample - loss: 0.0426\n"
     ]
    }
   ],
   "source": [
    "opt = tf.keras.optimizers.Adam(0.01)\n",
    "model.compile(optimizer=opt, loss='mse')\n",
    "r = model.fit(X, Y, epochs=100)"
   ]
  },
  {
   "cell_type": "code",
   "execution_count": 48,
   "metadata": {},
   "outputs": [
    {
     "data": {
      "text/plain": [
       "[<matplotlib.lines.Line2D at 0x25b42eab708>]"
      ]
     },
     "execution_count": 48,
     "metadata": {},
     "output_type": "execute_result"
    },
    {
     "data": {
      "image/png": "[encoded data removed]",
      "text/plain": [
       "<Figure size 432x288 with 1 Axes>"
      ]
     },
     "metadata": {
      "needs_background": "light"
     },
     "output_type": "display_data"
    }
   ],
   "source": [
    "plt.plot(r.history['loss'])"
   ]
  },
  {
   "cell_type": "code",
   "execution_count": null,
   "metadata": {},
   "outputs": [],
   "source": []
  }
 ],
 "metadata": {
  "kernelspec": {
   "display_name": "PyCharm (Desktop)",
   "language": "python",
   "name": "pycharm-326dfaf0"
  },
  "language_info": {
   "codemirror_mode": {
    "name": "ipython",
    "version": 3
   },
   "file_extension": ".py",
   "mimetype": "text/x-python",
   "name": "python",
   "nbconvert_exporter": "python",
   "pygments_lexer": "ipython3",
   "version": "3.7.9"
  }
 },
 "nbformat": 4,
 "nbformat_minor": 4
}
